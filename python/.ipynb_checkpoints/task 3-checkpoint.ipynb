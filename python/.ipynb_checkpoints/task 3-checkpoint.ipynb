{
 "cells": [
  {
   "cell_type": "markdown",
   "metadata": {
    "deletable": true,
    "editable": true
   },
   "source": [
    "### Write a function that computes the volume of a sphere given its radius."
   ]
  },
  {
   "cell_type": "code",
   "execution_count": 1,
   "metadata": {
    "collapsed": false,
    "deletable": true,
    "editable": true
   },
   "outputs": [
    {
     "data": {
      "text/plain": [
       "523.8095238095239"
      ]
     },
     "execution_count": 1,
     "metadata": {},
     "output_type": "execute_result"
    }
   ],
   "source": [
    "def vol(rad):\n",
    "    return (4*22*rad**3)/(3*7)\n",
    "\n",
    "vol(5)"
   ]
  },
  {
   "cell_type": "markdown",
   "metadata": {
    "deletable": true,
    "editable": true
   },
   "source": [
    "### Write a Python function that accepts a string and calculates the number of upper case letters and lower case letters.\n",
    "\n",
    "    Sample String : 'Hello Mr. Rogers, how are you this fine Tuesday?'\n",
    "    Expected Output : \n",
    "    No. of Upper case characters : 4\n",
    "    No. of Lower case Characters : 33"
   ]
  },
  {
   "cell_type": "code",
   "execution_count": 2,
   "metadata": {
    "collapsed": false,
    "deletable": true,
    "editable": true
   },
   "outputs": [
    {
     "name": "stdout",
     "output_type": "stream",
     "text": [
      "Original String : Hello Mr. Rogers, how are you this fine Tuesday?\n",
      "Number of Upper case characters : 4\n",
      "Number of Lower case characters : 33\n"
     ]
    }
   ],
   "source": [
    "def up_low(s):\n",
    "    u=0\n",
    "    l=0\n",
    "    for i in s:\n",
    "        if i.isupper():\n",
    "            u+=1\n",
    "        elif i.islower():\n",
    "            l+=1\n",
    "        else:\n",
    "            pass\n",
    "    print('Original String : {}'.format(s))\n",
    "    print('Number of Upper case characters : {}'.format(u))\n",
    "    print('Number of Lower case characters : {}'.format(l))\n",
    "    \n",
    "s = 'Hello Mr. Rogers, how are you this fine Tuesday?'\n",
    "up_low(s)"
   ]
  },
  {
   "cell_type": "markdown",
   "metadata": {
    "deletable": true,
    "editable": true
   },
   "source": [
    "### Write a function that checks whether a number is in a given range (inclusive of high and low)\n"
   ]
  },
  {
   "cell_type": "code",
   "execution_count": 3,
   "metadata": {
    "collapsed": false,
    "deletable": true,
    "editable": true
   },
   "outputs": [
    {
     "name": "stdout",
     "output_type": "stream",
     "text": [
      "9 is not in range between 2 and 7\n"
     ]
    }
   ],
   "source": [
    "def ran_check(num,low,high):\n",
    "    if low<=num<=high:\n",
    "        print(\"{} is in range between {} and {}\".format(num,low,high))\n",
    "    else:\n",
    "        print(\"{} is not in range between {} and {}\".format(num,low,high))\n",
    "\n",
    "ran_check(9,2,7)"
   ]
  },
  {
   "cell_type": "markdown",
   "metadata": {
    "deletable": true,
    "editable": true
   },
   "source": [
    "### Write a Python function that checks whether a passed string is palindrome or not."
   ]
  },
  {
   "cell_type": "code",
   "execution_count": 20,
   "metadata": {
    "collapsed": true,
    "deletable": true,
    "editable": true
   },
   "outputs": [],
   "source": [
    "def palindrome(s):\n",
    "    s = s.split()\n",
    "    news = s[0] + s[1]\n",
    "    return news == news[::-1]"
   ]
  },
  {
   "cell_type": "code",
   "execution_count": 21,
   "metadata": {
    "collapsed": false,
    "deletable": true,
    "editable": true
   },
   "outputs": [
    {
     "data": {
      "text/plain": [
       "True"
      ]
     },
     "execution_count": 21,
     "metadata": {},
     "output_type": "execute_result"
    }
   ],
   "source": [
    "palindrome('nurses run')"
   ]
  },
  {
   "cell_type": "markdown",
   "metadata": {
    "deletable": true,
    "editable": true
   },
   "source": [
    "# TIC TAC TOE\n",
    "\n",
    "Here are the requirements:\n",
    "\n",
    "* 2 players should be able to play the game (both sitting at the same computer)\n",
    "* The board should be printed out every time a player makes a move\n",
    "* You should be able to accept input of the player position and then place a symbol on the board\n",
    "\n",
    "Feel free to use Google to help you figure anything out.  \n",
    "\n",
    "Below is a set of steps for you to follow to try to create the Tic Tac Toe Milestone Project game!"
   ]
  },
  {
   "cell_type": "markdown",
   "metadata": {
    "deletable": true,
    "editable": true
   },
   "source": [
    "#### Some suggested tools before you get started:\n",
    "To take input from a user:\n",
    "\n",
    "    player1 = input(\"Please pick a marker 'X' or 'O'\")\n",
    "    \n",
    "Note that input() takes in a string. If you need an integer value, use\n",
    "\n",
    "    position = int(input('Please enter a number'))\n",
    "    \n",
    "<br>To clear the screen between moves:\n",
    "\n",
    "    from IPython.display import clear_output\n",
    "    clear_output()\n",
    "    \n",
    "Note that clear_output() will only work in jupyter. To clear the screen in other IDEs, consider:\n",
    "\n",
    "    print('\\n'*100)\n",
    "    \n",
    "This scrolls the previous board up out of view. Now on to the program!"
   ]
  },
  {
   "cell_type": "markdown",
   "metadata": {
    "deletable": true,
    "editable": true
   },
   "source": [
    "**Step 1: Write a function that can print out a board. Set up your board as a list, where each index 1-9 corresponds with a number on a number pad, so you get a 3 by 3 board representation.  or go to step 10 to find my own solution**"
   ]
  },
  {
   "cell_type": "code",
   "execution_count": 22,
   "metadata": {
    "collapsed": true,
    "deletable": true,
    "editable": true
   },
   "outputs": [],
   "source": [
    "from IPython.display import clear_output\n",
    "\n",
    "def display_board(grid):\n",
    "    print(\"   |   |   \")\n",
    "    print(\" {} | {} | {} \".format(grid[1],grid[2],grid[3]))\n",
    "    print(\"   |   |   \")\n",
    "    print(\"-----------\")\n",
    "    print(\"   |   |   \")\n",
    "    print(\" {} | {} | {} \".format(grid[4],grid[5],grid[6]))\n",
    "    print(\"   |   |   \")\n",
    "    print(\"-----------\")\n",
    "    print(\"   |   |   \")\n",
    "    print(\" {} | {} | {} \".format(grid[7],grid[8],grid[9]))\n",
    "    print(\"   |   |   \")"
   ]
  },
  {
   "cell_type": "markdown",
   "metadata": {
    "deletable": true,
    "editable": true
   },
   "source": [
    "**TEST Step 1:** run your function on a test version of the board list, and make adjustments as necessary"
   ]
  },
  {
   "cell_type": "code",
   "execution_count": 23,
   "metadata": {
    "collapsed": false,
    "deletable": true,
    "editable": true
   },
   "outputs": [
    {
     "name": "stdout",
     "output_type": "stream",
     "text": [
      "   |   |   \n",
      " X | O | X \n",
      "   |   |   \n",
      "-----------\n",
      "   |   |   \n",
      " O | X | O \n",
      "   |   |   \n",
      "-----------\n",
      "   |   |   \n",
      " X | O | X \n",
      "   |   |   \n"
     ]
    }
   ],
   "source": [
    "test_board = ['#','X','O','X','O','X','O','X','O','X']\n",
    "display_board(test_board)"
   ]
  },
  {
   "cell_type": "markdown",
   "metadata": {
    "deletable": true,
    "editable": true
   },
   "source": [
    "**Step 2: Write a function that can take in a player input and assign their marker as 'X' or 'O'. Think about using *while* loops to continually ask until you get a correct answer.**"
   ]
  },
  {
   "cell_type": "code",
   "execution_count": 24,
   "metadata": {
    "collapsed": true,
    "deletable": true,
    "editable": true
   },
   "outputs": [],
   "source": [
    "def player_input():\n",
    "    while True:\n",
    "        player1 = input(\"Please pick a marker 'X' or 'O'\")\n",
    "        chars = []\n",
    "        if player1 == 'X':\n",
    "            chars.append('X')\n",
    "            chars.append('O')\n",
    "            break\n",
    "        elif player1 == 'O':\n",
    "            chars.append('O')\n",
    "            chars.append('X')\n",
    "            break\n",
    "        else:\n",
    "            print('Enter Valid Character')\n",
    "    return chars"
   ]
  },
  {
   "cell_type": "markdown",
   "metadata": {
    "deletable": true,
    "editable": true
   },
   "source": [
    "**TEST Step 2:** run the function to make sure it returns the desired output"
   ]
  },
  {
   "cell_type": "code",
   "execution_count": 25,
   "metadata": {
    "collapsed": false,
    "deletable": true,
    "editable": true
   },
   "outputs": [
    {
     "name": "stdout",
     "output_type": "stream",
     "text": [
      "Please pick a marker 'X' or 'O'X\n"
     ]
    },
    {
     "data": {
      "text/plain": [
       "['X', 'O']"
      ]
     },
     "execution_count": 25,
     "metadata": {},
     "output_type": "execute_result"
    }
   ],
   "source": [
    "player_input()"
   ]
  },
  {
   "cell_type": "markdown",
   "metadata": {
    "deletable": true,
    "editable": true
   },
   "source": [
    "**Step 3: Write a function that takes in the board list object, a marker ('X' or 'O'), and a desired position (number 1-9) and assigns it to the board.**"
   ]
  },
  {
   "cell_type": "code",
   "execution_count": 26,
   "metadata": {
    "collapsed": true,
    "deletable": true,
    "editable": true
   },
   "outputs": [],
   "source": [
    "def place_marker(board, marker, position):\n",
    "    board[position] = marker\n",
    "    pass"
   ]
  },
  {
   "cell_type": "markdown",
   "metadata": {
    "deletable": true,
    "editable": true
   },
   "source": [
    "**TEST Step 3:** run the place marker function using test parameters and display the modified board"
   ]
  },
  {
   "cell_type": "code",
   "execution_count": 27,
   "metadata": {
    "collapsed": false,
    "deletable": true,
    "editable": true
   },
   "outputs": [
    {
     "name": "stdout",
     "output_type": "stream",
     "text": [
      "   |   |   \n",
      " X | O | X \n",
      "   |   |   \n",
      "-----------\n",
      "   |   |   \n",
      " O | X | O \n",
      "   |   |   \n",
      "-----------\n",
      "   |   |   \n",
      " X | $ | X \n",
      "   |   |   \n"
     ]
    }
   ],
   "source": [
    "place_marker(test_board,'$',8)\n",
    "display_board(test_board)"
   ]
  },
  {
   "cell_type": "markdown",
   "metadata": {
    "deletable": true,
    "editable": true
   },
   "source": [
    "**Step 4: Write a function that takes in a board and a mark (X or O) and then checks to see if that mark has won. **"
   ]
  },
  {
   "cell_type": "code",
   "execution_count": 32,
   "metadata": {
    "collapsed": true,
    "deletable": true,
    "editable": true
   },
   "outputs": [],
   "source": [
    "def win_check(grid, mark):\n",
    "    combination = [[1,2,3],[4,5,6],[7,8,9],[1,4,7],[2,5,8],[3,6,9],[1,5,9],[7,5,3]]\n",
    "    for i in combination:\n",
    "        if grid[i[1]]==grid[i[2]]==grid[i[0]] and grid[i[0]]==mark:\n",
    "            print('Player {} wins'.format(mark))\n",
    "            break"
   ]
  },
  {
   "cell_type": "markdown",
   "metadata": {
    "deletable": true,
    "editable": true
   },
   "source": [
    "**TEST Step 4:** run the win_check function against our test_board - it should return True"
   ]
  },
  {
   "cell_type": "code",
   "execution_count": 33,
   "metadata": {
    "collapsed": false,
    "deletable": true,
    "editable": true
   },
   "outputs": [
    {
     "name": "stdout",
     "output_type": "stream",
     "text": [
      "Player X wins\n"
     ]
    }
   ],
   "source": [
    "win_check(test_board,'X')"
   ]
  },
  {
   "cell_type": "markdown",
   "metadata": {
    "deletable": true,
    "editable": true
   },
   "source": [
    "**Step 5: Write a function that uses the random module to randomly decide which player goes first. You may want to lookup random.randint() Return a string of which player went first.**"
   ]
  },
  {
   "cell_type": "code",
   "execution_count": 34,
   "metadata": {
    "collapsed": true,
    "deletable": true,
    "editable": true
   },
   "outputs": [],
   "source": [
    "import random\n",
    "\n",
    "def choose_first():\n",
    "    return random.randint(1,3)"
   ]
  },
  {
   "cell_type": "markdown",
   "metadata": {
    "deletable": true,
    "editable": true
   },
   "source": [
    "**Step 6: Write a function that returns a boolean indicating whether a space on the board is freely available.**"
   ]
  },
  {
   "cell_type": "code",
   "execution_count": 35,
   "metadata": {
    "collapsed": true,
    "deletable": true,
    "editable": true
   },
   "outputs": [],
   "source": [
    "def space_check(board, position):\n",
    "    return board[position] == \" \""
   ]
  },
  {
   "cell_type": "markdown",
   "metadata": {
    "deletable": true,
    "editable": true
   },
   "source": [
    "**Step 7: Write a function that checks if the board is full and returns a boolean value. True if full, False otherwise.**"
   ]
  },
  {
   "cell_type": "code",
   "execution_count": null,
   "metadata": {
    "collapsed": true,
    "deletable": true,
    "editable": true
   },
   "outputs": [],
   "source": [
    "def full_board_check(board):\n",
    "    \n",
    "    pass"
   ]
  },
  {
   "cell_type": "markdown",
   "metadata": {
    "deletable": true,
    "editable": true
   },
   "source": [
    "**Step 8: Write a function that asks for a player's next position (as a number 1-9) and then uses the function from step 6 to check if it's a free position. If it is, then return the position for later use.**"
   ]
  },
  {
   "cell_type": "code",
   "execution_count": null,
   "metadata": {
    "collapsed": true,
    "deletable": true,
    "editable": true
   },
   "outputs": [],
   "source": [
    "def player_choice(board):\n",
    "    \n",
    "    pass"
   ]
  },
  {
   "cell_type": "markdown",
   "metadata": {
    "deletable": true,
    "editable": true
   },
   "source": [
    "**Step 9: Write a function that asks the player if they want to play again and returns a boolean True if they do want to play again.**"
   ]
  },
  {
   "cell_type": "code",
   "execution_count": null,
   "metadata": {
    "collapsed": true,
    "deletable": true,
    "editable": true
   },
   "outputs": [],
   "source": [
    "def replay():\n",
    "    \n",
    "    pass"
   ]
  },
  {
   "cell_type": "markdown",
   "metadata": {
    "collapsed": true,
    "deletable": true,
    "editable": true
   },
   "source": [
    "**Step 10: Here comes the hard part! Use while loops and the functions you've made to run the game!**"
   ]
  },
  {
   "cell_type": "code",
   "execution_count": 36,
   "metadata": {
    "collapsed": false,
    "deletable": true,
    "editable": true
   },
   "outputs": [
    {
     "name": "stdout",
     "output_type": "stream",
     "text": [
      "Player 1 Select X or O : x\n",
      "Player 1 will go 1st, Are you Ready? (Yes/No) : yes\n",
      "   |   |   \n",
      "   |   |   \n",
      "   |   |   \n",
      "-----------\n",
      "   |   |   \n",
      "   |   |   \n",
      "   |   |   \n",
      "-----------\n",
      "   |   |   \n",
      "   |   |   \n",
      "   |   |   \n",
      "Player 1 : Choose Your option (1-9) : 5\n",
      "   |   |   \n",
      "   |   |   \n",
      "   |   |   \n",
      "-----------\n",
      "   |   |   \n",
      "   | X |   \n",
      "   |   |   \n",
      "-----------\n",
      "   |   |   \n",
      "   |   |   \n",
      "   |   |   \n",
      "Player 2 : Choose Your option (1-9) : 9\n",
      "   |   |   \n",
      "   |   |   \n",
      "   |   |   \n",
      "-----------\n",
      "   |   |   \n",
      "   | X |   \n",
      "   |   |   \n",
      "-----------\n",
      "   |   |   \n",
      "   |   | O \n",
      "   |   |   \n",
      "Player 1 : Choose Your option (1-9) : 7\n",
      "   |   |   \n",
      "   |   |   \n",
      "   |   |   \n",
      "-----------\n",
      "   |   |   \n",
      "   | X |   \n",
      "   |   |   \n",
      "-----------\n",
      "   |   |   \n",
      " X |   | O \n",
      "   |   |   \n",
      "Player 2 : Choose Your option (1-9) : 5\n",
      "Select valid Position\n",
      "   |   |   \n",
      "   |   |   \n",
      "   |   |   \n",
      "-----------\n",
      "   |   |   \n",
      "   | X |   \n",
      "   |   |   \n",
      "-----------\n",
      "   |   |   \n",
      " X |   | O \n",
      "   |   |   \n",
      "Player 2 : Choose Your option (1-9) : 4\n",
      "   |   |   \n",
      "   |   |   \n",
      "   |   |   \n",
      "-----------\n",
      "   |   |   \n",
      " O | X |   \n",
      "   |   |   \n",
      "-----------\n",
      "   |   |   \n",
      " X |   | O \n",
      "   |   |   \n",
      "Player 1 : Choose Your option (1-9) : 6\n",
      "   |   |   \n",
      "   |   |   \n",
      "   |   |   \n",
      "-----------\n",
      "   |   |   \n",
      " O | X | X \n",
      "   |   |   \n",
      "-----------\n",
      "   |   |   \n",
      " X |   | O \n",
      "   |   |   \n",
      "Player 2 : Choose Your option (1-9) : 1\n",
      "   |   |   \n",
      " O |   |   \n",
      "   |   |   \n",
      "-----------\n",
      "   |   |   \n",
      " O | X | X \n",
      "   |   |   \n",
      "-----------\n",
      "   |   |   \n",
      " X |   | O \n",
      "   |   |   \n",
      "Player 1 : Choose Your option (1-9) : 2\n",
      "   |   |   \n",
      " O | X |   \n",
      "   |   |   \n",
      "-----------\n",
      "   |   |   \n",
      " O | X | X \n",
      "   |   |   \n",
      "-----------\n",
      "   |   |   \n",
      " X |   | O \n",
      "   |   |   \n",
      "Player 2 : Choose Your option (1-9) : 3\n",
      "   |   |   \n",
      " O | X | O \n",
      "   |   |   \n",
      "-----------\n",
      "   |   |   \n",
      " O | X | X \n",
      "   |   |   \n",
      "-----------\n",
      "   |   |   \n",
      " X |   | O \n",
      "   |   |   \n",
      "Player 1 : Choose Your option (1-9) : 8\n",
      "   |   |   \n",
      " O | X | O \n",
      "   |   |   \n",
      "-----------\n",
      "   |   |   \n",
      " O | X | X \n",
      "   |   |   \n",
      "-----------\n",
      "   |   |   \n",
      " X | X | O \n",
      "   |   |   \n",
      "Player 1 wins\n",
      "Do you want to play again? (Yes?No) : no\n"
     ]
    }
   ],
   "source": [
    "def selectchar():\n",
    "    a = input(\"Player 1 Select X or O : \")\n",
    "    chars = []\n",
    "    if a.upper() == 'X':\n",
    "        chars.append('X')\n",
    "        chars.append('O')\n",
    "        return chars\n",
    "    elif a.upper() == 'O':\n",
    "        chars.append('O')\n",
    "        chars.append('X')\n",
    "        return chars\n",
    "    else:\n",
    "        print(\"Enter Valid Character\")\n",
    "        return selectchar()\n",
    "\n",
    "def ready():\n",
    "    a = input(\"Player 1 will go 1st, Are you Ready? (Yes/No) : \")\n",
    "    if a.lower() == 'yes':\n",
    "        return True\n",
    "    else:\n",
    "        return False\n",
    "def printgrid(grid):\n",
    "    print(\"   |   |   \")\n",
    "    print(\" {} | {} | {} \".format(grid[1],grid[2],grid[3]))\n",
    "    print(\"   |   |   \")\n",
    "    print(\"-----------\")\n",
    "    print(\"   |   |   \")\n",
    "    print(\" {} | {} | {} \".format(grid[4],grid[5],grid[6]))\n",
    "    print(\"   |   |   \")\n",
    "    print(\"-----------\")\n",
    "    print(\"   |   |   \")\n",
    "    print(\" {} | {} | {} \".format(grid[7],grid[8],grid[9]))\n",
    "    print(\"   |   |   \")\n",
    "    \n",
    "def checkgrid(grid,chars):\n",
    "    combination = [[1,2,3],[4,5,6],[7,8,9],[1,4,7],[2,5,8],[3,6,9],[1,5,9],[7,5,3]]\n",
    "    for i in combination:\n",
    "        if grid[i[1]]==grid[i[2]]==grid[i[0]] and grid[i[0]]==chars[0]:\n",
    "            printgrid(grid)\n",
    "            print('Player 1 wins')\n",
    "            return False\n",
    "        if grid[i[1]]==grid[i[2]]==grid[i[0]] and grid[i[0]]==chars[1]:\n",
    "            printgrid(grid)\n",
    "            print('Player 2 wins')\n",
    "            return False\n",
    "    for i in grid:\n",
    "        if grid[i]==\" \":\n",
    "            return True\n",
    "    printgrid(grid)\n",
    "    print('Draw')\n",
    "    return False\n",
    "\n",
    "def main():\n",
    "    chars = selectchar()\n",
    "    grid = {1:\" \",2:\" \",3:\" \",4:\" \",5:\" \",6:\" \",7:\" \",8:\" \",9:\" \"}\n",
    "    play = ready()\n",
    "    turn = True\n",
    "    while play:\n",
    "        if turn:\n",
    "            printgrid(grid)\n",
    "            pos = 0\n",
    "            pos = int(input('Player 1 : Choose Your option (1-9) : '))\n",
    "            if(1<=pos<=9 and grid[pos]!='X' and grid[pos]!='O'):\n",
    "                grid[pos] = chars[0]\n",
    "                play = checkgrid(grid,chars)\n",
    "                turn = False\n",
    "            else:\n",
    "                print('Select valid Position')\n",
    "                continue\n",
    "        else:\n",
    "            printgrid(grid)\n",
    "            pos = 0\n",
    "            pos = int(input('Player 2 : Choose Your option (1-9) : '))\n",
    "            if(1<=pos<=9 and grid[pos]!='X' and grid[pos]!='O'):\n",
    "                grid[pos] = chars[1]\n",
    "                play = checkgrid(grid,chars)\n",
    "                turn = True\n",
    "            else:\n",
    "                print('Select valid Position')\n",
    "                continue\n",
    "    replay = input('Do you want to play again? (Yes?No) : ')\n",
    "    if replay.lower() == 'yes':\n",
    "        main()\n",
    "    else:\n",
    "        pass\n",
    "    \n",
    "main()"
   ]
  },
  {
   "cell_type": "markdown",
   "metadata": {
    "collapsed": true,
    "deletable": true,
    "editable": true
   },
   "source": [
    "## Good Job!"
   ]
  }
 ],
 "metadata": {
  "kernelspec": {
   "display_name": "Python 3",
   "language": "python",
   "name": "python3"
  },
  "language_info": {
   "codemirror_mode": {
    "name": "ipython",
    "version": 3
   },
   "file_extension": ".py",
   "mimetype": "text/x-python",
   "name": "python",
   "nbconvert_exporter": "python",
   "pygments_lexer": "ipython3",
   "version": "3.5.2"
  }
 },
 "nbformat": 4,
 "nbformat_minor": 2
}
