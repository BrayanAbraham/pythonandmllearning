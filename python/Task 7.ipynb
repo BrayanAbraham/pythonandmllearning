{
 "cells": [
  {
   "cell_type": "markdown",
   "metadata": {
    "deletable": true,
    "editable": true
   },
   "source": [
    "## Create a copy of master excel sheet and perform the following tasks\n",
    "#### Check if all email addresses are valid i.e. have @ and .\n",
    "#### Check if all phone numbers are 10 digit only . if not find a way to make them 10 digits.\n",
    "#### Check if 10th%, 12th% , btech% ,backlog are not null. If null , replace by any logical value.\n",
    "#### Drop mothers name , fathers name columns.\n",
    "#### Save the newly created dataframe to an excel sheet using python."
   ]
  },
  {
   "cell_type": "code",
   "execution_count": 2,
   "metadata": {
    "collapsed": false,
    "deletable": true,
    "editable": true
   },
   "outputs": [
    {
     "name": "stdout",
     "output_type": "stream",
     "text": [
      "Index(['Class', 'Class Serial Number', 'University Roll Number\\t',\n",
      "       'Student Name\\t', 'First Name\\t', 'Second Name\\t', 'Last Name\\t',\n",
      "       'Father's Name\\t', 'Mother's Name',\n",
      "       'Any Sibling (Studying in IPU College) If Yes then give details\\t',\n",
      "       'Preparing for GATE/GRE/GMAT/CAT etc give details, if any\\t',\n",
      "       'Gender\\t', 'Date Of Birth ', 'Email', 'Mobile Number\\t',\n",
      "       'Residence No\\t', 'Gap Year', '10th %\\t', '10th Board Name',\n",
      "       'Year of Passing-10th\\t', '10th School City\\t', '10th School State\\t',\n",
      "       '12th %', '12th Board Name', 'Year of Passing-12th\\t',\n",
      "       '12th School City\\t', '12th School State\\t', 'Diploma %',\n",
      "       'Diploma Board Name\\t', 'Year of Passing - Diploma\\t',\n",
      "       'Graduation Degree\\t', 'Branch', '1st Semester%\\t', '2nd Semester%\\t',\n",
      "       '3rd Semester%\\t', '4th Semester%', '5th Semester %', '6th Semester %',\n",
      "       '7th Semester %', '8th Semester %', 'B.Tech %\\t', 'Backlogs\\t',\n",
      "       'Address', 'Address\\t', 'Address Line 1\\t', 'Address Line 2\\t',\n",
      "       'City\\t\\t', 'State', 'Pin Code\\t', 'College Name', 'CGPA', 'Package'],\n",
      "      dtype='object')\n"
     ]
    }
   ],
   "source": [
    "import pandas as pd\n",
    "\n",
    "df = pd.read_excel('master final DB OF 2018.xlsm')\n",
    "\n",
    "print(df.columns)"
   ]
  },
  {
   "cell_type": "code",
   "execution_count": 3,
   "metadata": {
    "collapsed": false,
    "deletable": true,
    "editable": true
   },
   "outputs": [
    {
     "name": "stdout",
     "output_type": "stream",
     "text": [
      "All Cool\n"
     ]
    }
   ],
   "source": [
    "import re\n",
    "def isValidEmail(email):\n",
    "    if re.match('^[_A-Za-z0-9-\\\\+]+(\\\\.[_A-Za-z0-9-]+)*@[A-Za-z0-9-]+(\\\\.[A-Za-z0-9]+)*(\\\\.[A-Za-z]{2,})', email) != None:\n",
    "        return True\n",
    "    return False\n",
    "\n",
    "check = True\n",
    "for index,row in df.iterrows():\n",
    "    if isValidEmail(row['Email']) == False:\n",
    "        print(index, row['Email'])\n",
    "        check = False\n",
    "        \n",
    "if check:\n",
    "    print('All Cool')"
   ]
  },
  {
   "cell_type": "code",
   "execution_count": 4,
   "metadata": {
    "collapsed": false,
    "deletable": true,
    "editable": true
   },
   "outputs": [
    {
     "name": "stdout",
     "output_type": "stream",
     "text": [
      "value changed at  88  to  9873747166\n",
      "value changed at  181  to  9654423431\n",
      "Residence No changed at  181  to  8700705441\n",
      "value changed at  183  to  9810225035\n",
      "value changed at  226  to  9717624252\n",
      "value changed at  377  to  Invalid Number\n",
      "value changed at  394  to  8920310624\n"
     ]
    }
   ],
   "source": [
    "def counter(n):\n",
    "    count = 0\n",
    "    while n>0:\n",
    "        count+=1\n",
    "        n=n//10\n",
    "    return count\n",
    "for index,row in df.iterrows():\n",
    "    try:\n",
    "        t = int(row['Mobile Number\\t'])\n",
    "        count = counter(t)\n",
    "        if count != 10 :\n",
    "            if count == 12 and t//(10**10) ==91:\n",
    "                k = t%(10**10)\n",
    "                df.set_value(index, 'Mobile Number\\t', k)\n",
    "            else:\n",
    "                df.set_value(index , 'Mobile Number\\t', 'Invalid Number')\n",
    "            print('value changed at ',index,' to ', df.iloc[index]['Mobile Number\\t'])\n",
    "    except:\n",
    "        if re.match('^[0-9]+,[ 0-9]+',row['Mobile Number\\t']) != None:\n",
    "            num1 = int(row['Mobile Number\\t'].split(', ')[0])\n",
    "            num2 = int(row['Mobile Number\\t'].split(', ')[1])\n",
    "            count = counter(num1)\n",
    "            if count == 10:\n",
    "                df.set_value(index, 'Mobile Number\\t', num1)\n",
    "            elif count == 12 and num1//(10**10) ==91:\n",
    "                k = num1%(10**10)\n",
    "                df.set_value(index, 'Mobile Number\\t', k)\n",
    "            else:\n",
    "                df.set_value(index , 'Mobile Number\\t', 'Invalid Number')\n",
    "            print('value changed at ',index,' to ', df.iloc[index]['Mobile Number\\t'])\n",
    "            count = counter(num2)\n",
    "            if count == 10:\n",
    "                df.set_value(index, 'Residence No\\t', num2)\n",
    "            elif count == 12 and num2//(10**10) ==91:\n",
    "                k = num2%(10**10)\n",
    "                df.set_value(index, 'Residence No\\t', k)\n",
    "            else:\n",
    "                df.set_value(index , 'Residence No\\t', 'Invalid Number')\n",
    "            print('Residence No changed at ',index,' to ', df.iloc[index]['Residence No\\t'])\n",
    "        elif re.match('^[0-9 \\u202c]+',row['Mobile Number\\t']) != None:\n",
    "            mylist = row['Mobile Number\\t'].split()\n",
    "            num = ''\n",
    "            for item in mylist:\n",
    "                num = num + item\n",
    "            try:\n",
    "                num = int(num)\n",
    "                count = counter(num)\n",
    "                if count == 10:\n",
    "                    df.set_value(index, 'Mobile Number\\t', num)\n",
    "                elif count == 12 and num//(10**10) ==91:\n",
    "                    k = num%(10**10)\n",
    "                    df.set_value(index, 'Mobile Number\\t', k)\n",
    "                else:\n",
    "                    df.set_value(index , 'Mobile Number\\t', 'Invalid Number')\n",
    "                print('value changed at ',index,' to ', df.iloc[index]['Mobile Number\\t'])\n",
    "            except:\n",
    "                num = list(num)\n",
    "                new = ''\n",
    "                for i in num:\n",
    "                    if i.isdigit():\n",
    "                        new = new + i\n",
    "                num = int(new)\n",
    "                count = counter(num)\n",
    "                if count == 10:\n",
    "                    df.set_value(index, 'Mobile Number\\t', num)\n",
    "                elif count == 12 and num//(10**10) ==91:\n",
    "                    k = num%(10**10)\n",
    "                    df.set_value(index, 'Mobile Number\\t', k)\n",
    "                else:\n",
    "                    df.set_value(index , 'Mobile Number\\t', 'Invalid Number')\n",
    "                print('value changed at ',index,' to ', df.iloc[index]['Mobile Number\\t'])\n",
    "        else:\n",
    "            print('Uncharted Territory')"
   ]
  },
  {
   "cell_type": "code",
   "execution_count": 5,
   "metadata": {
    "collapsed": false,
    "deletable": true,
    "editable": true
   },
   "outputs": [],
   "source": [
    "df['Backlogs\\t'].fillna(0, inplace = True)\n",
    "df['10th %\\t'].fillna(0, inplace = True)\n",
    "df['12th %'].fillna('NA', inplace = True)\n",
    "df['B.Tech %\\t'].fillna(0, inplace = True)"
   ]
  },
  {
   "cell_type": "code",
   "execution_count": 6,
   "metadata": {
    "collapsed": false,
    "deletable": true,
    "editable": true
   },
   "outputs": [
    {
     "data": {
      "text/plain": [
       "Index(['Class', 'Class Serial Number', 'University Roll Number\\t',\n",
       "       'Student Name\\t', 'First Name\\t', 'Second Name\\t', 'Last Name\\t',\n",
       "       'Any Sibling (Studying in IPU College) If Yes then give details\\t',\n",
       "       'Preparing for GATE/GRE/GMAT/CAT etc give details, if any\\t',\n",
       "       'Gender\\t', 'Date Of Birth ', 'Email', 'Mobile Number\\t',\n",
       "       'Residence No\\t', 'Gap Year', '10th %\\t', '10th Board Name',\n",
       "       'Year of Passing-10th\\t', '10th School City\\t', '10th School State\\t',\n",
       "       '12th %', '12th Board Name', 'Year of Passing-12th\\t',\n",
       "       '12th School City\\t', '12th School State\\t', 'Diploma %',\n",
       "       'Diploma Board Name\\t', 'Year of Passing - Diploma\\t',\n",
       "       'Graduation Degree\\t', 'Branch', '1st Semester%\\t', '2nd Semester%\\t',\n",
       "       '3rd Semester%\\t', '4th Semester%', '5th Semester %', '6th Semester %',\n",
       "       '7th Semester %', '8th Semester %', 'B.Tech %\\t', 'Backlogs\\t',\n",
       "       'Address', 'Address\\t', 'Address Line 1\\t', 'Address Line 2\\t',\n",
       "       'City\\t\\t', 'State', 'Pin Code\\t', 'College Name', 'CGPA', 'Package'],\n",
       "      dtype='object')"
      ]
     },
     "execution_count": 6,
     "metadata": {},
     "output_type": "execute_result"
    }
   ],
   "source": [
    "df.drop([\"Father's Name\\t\", \"Mother's Name\"], axis = 1, inplace = True)\n",
    "df.columns"
   ]
  },
  {
   "cell_type": "code",
   "execution_count": 7,
   "metadata": {
    "collapsed": false,
    "deletable": true,
    "editable": true
   },
   "outputs": [],
   "source": [
    "df.to_excel('modified.xlsx',index=False)"
   ]
  },
  {
   "cell_type": "code",
   "execution_count": null,
   "metadata": {
    "collapsed": true,
    "deletable": true,
    "editable": true
   },
   "outputs": [],
   "source": []
  }
 ],
 "metadata": {
  "kernelspec": {
   "display_name": "Python 3",
   "language": "python",
   "name": "python3"
  },
  "language_info": {
   "codemirror_mode": {
    "name": "ipython",
    "version": 3
   },
   "file_extension": ".py",
   "mimetype": "text/x-python",
   "name": "python",
   "nbconvert_exporter": "python",
   "pygments_lexer": "ipython3",
   "version": "3.5.2"
  }
 },
 "nbformat": 4,
 "nbformat_minor": 2
}
